{
 "cells": [
  {
   "cell_type": "code",
   "execution_count": null,
   "id": "38c8b91e",
   "metadata": {},
   "outputs": [],
   "source": [
    "# Q NO.1 write a program to chewk number is positive, negative or zero \n",
    "\n",
    "num=int(input())\n",
    "if num>0:\n",
    "    print(\"number is positive\")\n",
    "if num==0:\n",
    "    print(\"number is zero\")\n",
    "\n",
    "else:\n",
    "    print(\"number is negative\")"
   ]
  },
  {
   "cell_type": "code",
   "execution_count": null,
   "id": "d343c5f5",
   "metadata": {},
   "outputs": [],
   "source": [
    " #  Q.2 NO  Write a program that swap two number with temp variable\n",
    "\n",
    "a=int(input(\"enter the value a\"))\n",
    "b=int(input(\"enter the value b\"))\n",
    "temp=a\n",
    "a=b\n",
    "b=temp\n",
    "print(\"the value of a is swapping\", a )\n",
    "print(\"the value of b is swapping\", b )\n",
    "\n",
    "\n",
    "\n",
    "\n",
    "\n"
   ]
  },
  {
   "cell_type": "code",
   "execution_count": null,
   "id": "43d43467",
   "metadata": {},
   "outputs": [],
   "source": [
    " # Q .NO 3  Write a paython program to find whether a given number is even or odd,\n",
    "\n",
    "num = int(input())\n",
    "if num % 2==0:\n",
    "    print (\"this number is even\")\n",
    "else:\n",
    "    print (\"this number is odd\")\n",
    "\n",
    "\n",
    "\n",
    "\n"
   ]
  },
  {
   "cell_type": "code",
   "execution_count": null,
   "id": "b4a18778",
   "metadata": {},
   "outputs": [],
   "source": [
    "#  Q. NO 4 Write a paythin program to calculate the length of string\n",
    "\n",
    "str1 = 'paython is dynamic language offcource'\n",
    "res= len(str1)\n",
    "print (res)"
   ]
  },
  {
   "cell_type": "code",
   "execution_count": null,
   "id": "a38eb20c",
   "metadata": {},
   "outputs": [],
   "source": [
    "# Q.NO 5 write a paython program to get the factorial number of given no.\n",
    "\n",
    "user = int(input(\"enter the value:\"))\n",
    "fact = 1\n",
    "for i in range (1, user+1):\n",
    "    fact=fact*i\n",
    "print(fact)\n",
    "\n",
    "\n"
   ]
  },
  {
   "cell_type": "code",
   "execution_count": null,
   "id": "7779cfc0",
   "metadata": {},
   "outputs": [],
   "source": [
    "# Q NO.6 What is the purpose continue statement in paython?\n",
    "\n",
    "continue ==> leaves the current iteration, continue from the next iteration\n",
    "\n",
    "\n"
   ]
  },
  {
   "cell_type": "code",
   "execution_count": null,
   "id": "03382f56",
   "metadata": {},
   "outputs": [],
   "source": [
    "# Q NO.7 How memory is managed in paython?\n",
    "\n",
    "memory management in paython involves a private heap contaning all paython object and data structure."
   ]
  },
  {
   "cell_type": "code",
   "execution_count": null,
   "id": "d13b90d0",
   "metadata": {},
   "outputs": [],
   "source": [
    "#Q NO. 8 Write a paython program to test a passed letter is a vowel or not.\n",
    "ch = input(\"enter the charecter of \")\n",
    "for i in ch:\n",
    "    if i in 'aeiouAEIOU':\n",
    "        print('is vowel')\n",
    "    else:\n",
    "        print('is not vowel ')\n",
    "    \n",
    "\n",
    "    "
   ]
  },
  {
   "cell_type": "code",
   "execution_count": null,
   "id": "7cf2a33d",
   "metadata": {},
   "outputs": [],
   "source": [
    "# 9 paython program to add 'ing' at the end of a given string. string is less than 3, leaves it unchanged\n",
    "str1 = input('enter the string:')\n",
    "n='ing'\n",
    "if len(str1)>=3 and str1.endswith('ing'):\n",
    "    ans1=str1.replace('ing','ly')\n",
    "    print(ans1)\n",
    "elif len(str1)>=3 and str.endswith!=n:\n",
    "    ans2 = f'{str1} {n}'\n",
    "    print(ans2)\n",
    "elif len(str1)<=3:\n",
    "    print(str1)\n",
    "    \n"
   ]
  },
  {
   "cell_type": "code",
   "execution_count": null,
   "id": "9b311982",
   "metadata": {},
   "outputs": [],
   "source": [
    "# 10 count the occurences of a substring in a string\n",
    "str2 = input(\"enter the string:\")\n",
    "find = input(\"enter the character to check repatation:\")\n",
    "ans = str2.count(find)\n",
    "print(ans)"
   ]
  },
  {
   "cell_type": "code",
   "execution_count": null,
   "id": "c4c8ad34",
   "metadata": {},
   "outputs": [],
   "source": [
    "#Que 11 Wap to fibonaci serise...\n",
    "\n",
    "n1=0\n",
    "n2=1\n",
    "sum=0\n",
    "num = int(input('enter any number: '))\n",
    "if num<=0:\n",
    "    print('enter positive integers')\n",
    "else:\n",
    "    for i in range(0,num):\n",
    "        print(sum, end=' ')\n",
    "        n1=n2\n",
    "        n2=sum\n",
    "        sum=n1+n2"
   ]
  },
  {
   "cell_type": "code",
   "execution_count": null,
   "id": "df65aa57",
   "metadata": {},
   "outputs": [],
   "source": [
    "#Que 12 Wap to count the number of char in a string...\n",
    "\n",
    "str1 ='hii myname is deepak aryan'\n",
    "str2= str1.count('e')\n",
    "print(str2)\n",
    "    "
   ]
  },
  {
   "cell_type": "code",
   "execution_count": null,
   "id": "558be112",
   "metadata": {},
   "outputs": [],
   "source": [
    "#Que 13 paython program sum of three given integer values ,if two values are equal sum wiil be zero \n",
    "n1 = int(input('enter no.1= '))\n",
    "n2 = int(input('enter no.1= '))\n",
    "n3 = int(input('enter no.1= '))\n",
    "if n1==n2 or n2==n3 or n3==n1:\n",
    "    print('zero')"
   ]
  },
  {
   "cell_type": "code",
   "execution_count": null,
   "id": "5b3b92ab",
   "metadata": {},
   "outputs": [],
   "source": [
    "# Q NO. 14 write a paython program to get a single string from two given strings , seperated by space and swap the first of two character in string\n",
    "str1=input(\"enter the string 1: \")\n",
    "str2=input(\"enter the string 2: \")\n",
    "f1= str1[0:2]\n",
    "f2= str2[0:2]\n",
    "ans1 = str1.replace(f1, f2)\n",
    "ans2 = str2.replace(f2, f1)\n",
    "print(ans1,ans2)\n",
    "\n"
   ]
  },
  {
   "cell_type": "code",
   "execution_count": null,
   "id": "fb4543f0",
   "metadata": {},
   "outputs": [],
   "source": [
    "# Q NO. 15 write a paython program to count the occurences of each word in given sentences\n",
    "str2 = input(\"enter the string: \")\n",
    "spl = str2.split()\n",
    "for i in spl:\n",
    "    if i.isalpha():\n",
    "        ans =spl.count(i)\n",
    "        print(1,\":\",ans)\n"
   ]
  },
  {
   "cell_type": "code",
   "execution_count": null,
   "id": "4b86f948",
   "metadata": {},
   "outputs": [],
   "source": [
    "# Q NO. 16 write the program to count the occurences of each word in a given sentences in string.\n",
    "str3=input(\"enter the string: \")\n",
    "for i in str3:\n",
    "    if i.isalpha():\n",
    "        f=str3.count(i)\n",
    "        print(i , ':',f)"
   ]
  },
  {
   "cell_type": "code",
   "execution_count": null,
   "id": "f32cdcbe",
   "metadata": {},
   "outputs": [],
   "source": [
    "#Q no. 17 WAP to sum of number is postive.....\n",
    "\n",
    "n=int(input(\"Enter the postive number...\"))\n",
    "ans=0\n",
    "for i in range(1,n):\n",
    "    ans += i\n",
    "print(i)"
   ]
  },
  {
   "cell_type": "code",
   "execution_count": null,
   "id": "7837f4ba",
   "metadata": {},
   "outputs": [],
   "source": [
    "#Q no. 18 WAP to count the number of char in a string.....\n",
    "\n",
    "str1=\"hipythinorigramminglanguage\"\n",
    "str2=str1.count('h')\n",
    "print(str2)\n",
    "\n",
    " "
   ]
  },
  {
   "cell_type": "code",
   "execution_count": null,
   "id": "476b24b3",
   "metadata": {},
   "outputs": [],
   "source": [
    "#Que 19 WAP to return if two values are sum or equal or diffrence is 5..\n",
    "\n",
    "a=int(input('enter no. 1: '))\n",
    "b=int(input('enter no. 2: '))\n",
    "sum=a+b\n",
    "c=a-b\n",
    "d=b-a\n",
    "if a==b:\n",
    "    print('true')\n",
    "elif sum==5:\n",
    "    print('true')\n",
    "elif c==5:\n",
    "    print('true')\n",
    "elif d==5:\n",
    "    print('true')\n",
    "else:\n",
    "    print('false')\n"
   ]
  },
  {
   "cell_type": "code",
   "execution_count": null,
   "id": "02d8ba20",
   "metadata": {},
   "outputs": [],
   "source": [
    "# Q NO.20  Sum of first n positive integers.......\n",
    "\n",
    "num=int(input('enter the number: '))\n",
    "sum=int((num*(num+1))/2)\n",
    "print('sum of given number',num, 'is: ',sum)"
   ]
  },
  {
   "cell_type": "code",
   "execution_count": null,
   "id": "928d1831",
   "metadata": {},
   "outputs": [],
   "source": [
    "# Q.NO 21 write a function to reverse a string if lenght is a multiple 4.\n",
    "\n",
    "str1 = input(\"enter a string. \")\n",
    "str2 = len(str1)\n",
    "if str2%4==0:\n",
    "    print(str1[::-1])\n",
    "else:\n",
    "    print('0')\n"
   ]
  },
  {
   "cell_type": "code",
   "execution_count": null,
   "id": "dbf0eefa",
   "metadata": {},
   "outputs": [],
   "source": [
    "#Q 22 WAP to get a string made of thr first 2 and the last 2 char from a given a string,\n",
    "# if the string lenght is lessthan 2 ,return \"empty string\",\n",
    "# a sample string:w3resource\n",
    "# expexted result:w3ce.\n",
    "# a sample string:w3.\n",
    "# a expacted resukt:w3w3.\n",
    "# a sample string:w.\n",
    "# a expcted result;empty string.\n",
    "\n",
    "str=input(\"Enter the string:\")\n",
    "f_t=str[0:2]\n",
    "l_t=str[-2]\n",
    "res= f_t+l_t\n",
    "if len(str)<2:\n",
    "    print(\"Empty string:\")\n",
    "elif len(str)==2:\n",
    "    print(str*2)\n",
    "elif len(str)>=3:\n",
    "    print(f_t,l_t,sep='')"
   ]
  },
  {
   "cell_type": "code",
   "execution_count": null,
   "id": "efa55871",
   "metadata": {},
   "outputs": [],
   "source": [
    "#Q 23 WAP to python funtion to insert a string in the middle of a string....\n",
    "\n",
    "str=input(\"Enter the String:\")\n",
    "str1=input(\"Enter the Substring to add in middle string:\")\n",
    "mid=len(str)//2\n",
    "a=str[:mid]\n",
    "b=str[mid:]\n",
    "ans=f'{a} {str1} {b}'\n",
    "print(ans)"
   ]
  },
  {
   "cell_type": "code",
   "execution_count": null,
   "id": "ba2e1855",
   "metadata": {},
   "outputs": [],
   "source": []
  },
  {
   "cell_type": "code",
   "execution_count": null,
   "id": "6959b30f",
   "metadata": {},
   "outputs": [],
   "source": []
  },
  {
   "cell_type": "code",
   "execution_count": null,
   "id": "451939fa",
   "metadata": {},
   "outputs": [],
   "source": []
  }
 ],
 "metadata": {
  "kernelspec": {
   "display_name": "Python 3 (ipykernel)",
   "language": "python",
   "name": "python3"
  },
  "language_info": {
   "codemirror_mode": {
    "name": "ipython",
    "version": 3
   },
   "file_extension": ".py",
   "mimetype": "text/x-python",
   "name": "python",
   "nbconvert_exporter": "python",
   "pygments_lexer": "ipython3",
   "version": "3.9.13"
  }
 },
 "nbformat": 4,
 "nbformat_minor": 5
}
