{
 "cells": [
  {
   "cell_type": "code",
   "execution_count": null,
   "id": "1d0cf871",
   "metadata": {},
   "outputs": [],
   "source": [
    "# Q no.1 What is List? How will you reverse a list?\n",
    "#Ans.\n",
    "list is used to store a multiple items in single variable.\n",
    "var.reverse() method can reverse the list\n"
   ]
  },
  {
   "cell_type": "code",
   "execution_count": null,
   "id": "96b7d680",
   "metadata": {},
   "outputs": [],
   "source": [
    " # Q no. 2 How will you remove last object from a list?\n",
    "    var.pop() method can remove the last object from a list"
   ]
  },
  {
   "cell_type": "code",
   "execution_count": null,
   "id": "4ce2e228",
   "metadata": {},
   "outputs": [],
   "source": [
    " # Q no. 3 Suppose list1 is [2, 33, 222, 14, and 25], what is list1 [-1]?\n",
    "    list[-1]  #indexing no.\n",
    "    25"
   ]
  },
  {
   "cell_type": "code",
   "execution_count": null,
   "id": "318d8928",
   "metadata": {},
   "outputs": [],
   "source": [
    "# Q no. 4 Differentiate between append () and extend () methods?\n",
    ".append() adds a single element to the end of the list \n",
    ".extend() add the element of list(any iterable)to the end of current list"
   ]
  },
  {
   "cell_type": "code",
   "execution_count": null,
   "id": "efc4f8b7",
   "metadata": {},
   "outputs": [],
   "source": [
    "# Q no. 5 Write a Python function to get the largest number,smallest num and sum of all from a list.\n",
    "list2=[1,2,50,80,42,13,-90,100,500,1000]\n",
    "list2.sort()\n",
    "lar=list2[-1]\n",
    "sml=list2[0]\n",
    "sm=0\n",
    "for i in list2:\n",
    "    sm+=i\n",
    "print('smallest number -',sml)\n",
    "print('largest number -',lar)\n",
    "print('the sum of list -',sm)"
   ]
  },
  {
   "cell_type": "code",
   "execution_count": null,
   "id": "8938000b",
   "metadata": {},
   "outputs": [],
   "source": [
    "# Q no. 6 How will you compare two lists?\n",
    " operator == (double equal to will campare two list)\n"
   ]
  },
  {
   "cell_type": "code",
   "execution_count": null,
   "id": "47900106",
   "metadata": {},
   "outputs": [],
   "source": [
    "# Q no. 7 Write a Python program to count the number of strings where the string\n",
    "# length is 2 or more and the first and last character are same from a given\n",
    "# list of strings.\n",
    "str1=input('enter the string ')\n",
    "st1=str1.split()\n",
    "st2=[]\n",
    "for i in st1:\n",
    "    if len(i)>=2:\n",
    "        if i[0]==i[-1]:\n",
    "            st2+=[i]\n",
    "if st2==[]:\n",
    "    print()\n",
    "else:\n",
    "    print(st2)"
   ]
  },
  {
   "cell_type": "code",
   "execution_count": null,
   "id": "dec43d2a",
   "metadata": {},
   "outputs": [],
   "source": [
    "# Q no. 8 Write a Python program to remove duplicates from a list\n",
    "def remove(duplicate):\n",
    "    final_list = []\n",
    "    for num in duplicate:\n",
    "        if num not in final_list:\n",
    "            final_list.append(num)\n",
    "    return final_list\n",
    "duplicate=[2,4,10,5,50,2,4,20,5,]\n",
    "print(remove(duplicate))"
   ]
  },
  {
   "cell_type": "code",
   "execution_count": null,
   "id": "bad37927",
   "metadata": {},
   "outputs": [],
   "source": [
    " # Q no. 9 Write a Python program to check a list is empty or not.\n",
    "def enquiry(list1):\n",
    "    if len(list1)==0:\n",
    "        return 0\n",
    "    else:\n",
    "        return 1"
   ]
  },
  {
   "cell_type": "code",
   "execution_count": null,
   "id": "71f2257e",
   "metadata": {},
   "outputs": [],
   "source": [
    "list1=[]"
   ]
  },
  {
   "cell_type": "code",
   "execution_count": null,
   "id": "e7b5aaf6",
   "metadata": {},
   "outputs": [],
   "source": [
    "print (enquiry(list1))"
   ]
  },
  {
   "cell_type": "code",
   "execution_count": null,
   "id": "05aeb65f",
   "metadata": {},
   "outputs": [],
   "source": [
    " # Q no. 10 Write a Python function that takes two lists and returns true if they have at least one common member.\n",
    "def common_data(list1,list2):\n",
    "    result=False\n",
    "    for x in list1:\n",
    "        for y in list2:\n",
    "            if x==y:\n",
    "                result=True\n",
    "                return result"
   ]
  },
  {
   "cell_type": "code",
   "execution_count": null,
   "id": "c714017c",
   "metadata": {},
   "outputs": [],
   "source": [
    "print(common_data([1,2,3],[3,4,5]))\n"
   ]
  },
  {
   "cell_type": "code",
   "execution_count": null,
   "id": "4212576e",
   "metadata": {},
   "outputs": [],
   "source": [
    " # Q no.11 Write a Python program to generate and print a list of first and last 5\n",
    " # elements where the values are square of numbers between 1 and 30\n",
    "str1=[1,2,3,4,5,26,27,28,29,30]\n",
    "st=[]\n",
    "for i in str1:\n",
    "    for j in str1:\n",
    "        if j==i:\n",
    "            st+=[j*i]\n",
    "print(st)"
   ]
  },
  {
   "cell_type": "code",
   "execution_count": null,
   "id": "dc8ab8e6",
   "metadata": {},
   "outputs": [],
   "source": [
    " # Q no. 12 Write a Python function that takes a list and returns a new list with unique\n",
    "#elements of the first list.\n",
    "def unique_list(i):\n",
    "    x=[]\n",
    "    for a in i:\n",
    "        if a not in x:\n",
    "            x.append(a)\n",
    "    return x\n",
    "print(unique_list([1,2,3,2,5,8]))"
   ]
  },
  {
   "cell_type": "code",
   "execution_count": null,
   "id": "4efe9fef",
   "metadata": {},
   "outputs": [],
   "source": [
    "# Q no. 13 Write a Python program to convert a list of characters into a string.\n",
    "def convert(s):\n",
    "    new = \" \"\n",
    "    for x in s:\n",
    "        new+= x\n",
    "        return new\n",
    "s= ['n']\n",
    "print(convert(s))\n"
   ]
  },
  {
   "cell_type": "code",
   "execution_count": null,
   "id": "b9436421",
   "metadata": {},
   "outputs": [],
   "source": [
    " # Q no. 14 Write a Python program to select an item randomly from a list.\n",
    "import random\n",
    "list1=([1,2,8,5,9])\n",
    "print(random.choice(list1))\n"
   ]
  },
  {
   "cell_type": "code",
   "execution_count": null,
   "id": "126bf06d",
   "metadata": {},
   "outputs": [],
   "source": [
    " # Q no. 15 Write a Python program to find the second smallest number in a list\n",
    "def find_len(list1):\n",
    "    lenght = len(list1)\n",
    "    list1.sort()\n",
    "    print(\"second largest number is:\", list1[lenght-2])\n"
   ]
  },
  {
   "cell_type": "code",
   "execution_count": null,
   "id": "270895df",
   "metadata": {},
   "outputs": [],
   "source": [
    "list1 = [12,25,80,2,4,10,60,90]"
   ]
  },
  {
   "cell_type": "code",
   "execution_count": null,
   "id": "b61daa73",
   "metadata": {},
   "outputs": [],
   "source": [
    "largest= find_len(list1)"
   ]
  },
  {
   "cell_type": "code",
   "execution_count": null,
   "id": "5ae9d511",
   "metadata": {},
   "outputs": [],
   "source": [
    "# Q no. 16 Write a Python program to get unique values from a list\n",
    "def unique(list1):\n",
    "    unique_list=[]\n",
    "    for i in list1:\n",
    "        if i not in unique_list:\n",
    "            unique_list.append(i)\n",
    "    for i in unique_list:\n",
    "        print(i)\n",
    "list1= [10,20,10,30,40,50,40,60] \n",
    "print(unique(list1))"
   ]
  },
  {
   "cell_type": "code",
   "execution_count": null,
   "id": "edeff90a",
   "metadata": {},
   "outputs": [],
   "source": [
    "# Q no. 17 Write a Python program to check whether a list contains a sub list\n"
   ]
  },
  {
   "cell_type": "code",
   "execution_count": null,
   "id": "cc165d8e",
   "metadata": {},
   "outputs": [],
   "source": [
    "# Q no. 18 Write a Python program to split a list into different variables.\n",
    "str1=[1,2,'murari',2]\n",
    "str2=tuple(str1)\n",
    "var1,var2,var3,var4=str2\n",
    "print(var3)"
   ]
  },
  {
   "cell_type": "code",
   "execution_count": null,
   "id": "dc8ed00e",
   "metadata": {},
   "outputs": [],
   "source": [
    "# Q no. 19What is tuple? Difference between list and tuple.\n",
    "# Ans.  Tuples are used to store multiple items in a single variable.(Ordered, Indexed, All datatypes, Immutable)\n",
    "#   list is used to store a multiple items in single variable.(Ordered, Indexed, Mutable) #  list ~ tuple \n"
   ]
  },
  {
   "cell_type": "code",
   "execution_count": null,
   "id": "d97ae23d",
   "metadata": {},
   "outputs": [],
   "source": [
    "# Q no. 20 Write a Python program to create a tuple with different data types.\n",
    "y2 = (12,3.4,True, (3,4,5), [3,3,4], {3,5,4}, {'a':1})\n",
    "print(y2)"
   ]
  },
  {
   "cell_type": "code",
   "execution_count": null,
   "id": "85f72122",
   "metadata": {},
   "outputs": [],
   "source": [
    " # Q no. 21 Write a Python program to create a tuple with numbers.\n",
    "tp1=[]\n",
    "st=input('enter the list in one line.')\n",
    "tp=st.split()\n",
    "for i in tp:\n",
    "    tp1+=[int(i)]\n",
    "tp2=tuple(tp1)\n",
    "print(tp2)"
   ]
  },
  {
   "cell_type": "code",
   "execution_count": null,
   "id": "9910b629",
   "metadata": {},
   "outputs": [],
   "source": [
    "# Q no. 22 Write a Python program to convert a tuple to a string.\n",
    "str1=(12,'bla',2.5,'mukesh',500,'manni')\n",
    "st3=''\n",
    "for i in str1:\n",
    "    st3+=str(i)\n",
    "print(st3)"
   ]
  },
  {
   "cell_type": "code",
   "execution_count": null,
   "id": "1030db16",
   "metadata": {},
   "outputs": [],
   "source": [
    "# Q No. 23 Write a Python program to check whether an element exists within a tuple.\n",
    "tuplex = ('m',5,8.0,\"murari\",\"z\",\"x\",50)\n",
    "print(\"murari\" in tuplex)\n",
    "print(10 in tuplex)"
   ]
  },
  {
   "cell_type": "code",
   "execution_count": null,
   "id": "19550073",
   "metadata": {},
   "outputs": [],
   "source": [
    "# Q no. 24 Write a Python program to find the length of a tuple.\n",
    "y2 = (12,3.4,True, (3,4,5), [3,3,4], {3,3,4}, {'a':1})\n",
    "len(y2)"
   ]
  },
  {
   "cell_type": "code",
   "execution_count": null,
   "id": "b09b4fc1",
   "metadata": {},
   "outputs": [],
   "source": [
    "# Q no. 25 Write a Python program to convert a list to a tuple.\n",
    "zx= [12,3.4,True, (3,4,5), [3,3,4], {3,3,4}, {'a':1}]\n",
    "tuple(zx)\n"
   ]
  },
  {
   "cell_type": "code",
   "execution_count": null,
   "id": "55be845b",
   "metadata": {},
   "outputs": [],
   "source": [
    " # Q no. 26  Write a Python program to reverse a tuple\n",
    "def reverse(tuples):\n",
    "    new_tuple=tuples[::-1]\n",
    "    return new_tuple\n",
    "tuples = (10,12,45,85,24,1,2,3,4,6)\n",
    "print(reverse(tuples))\n"
   ]
  },
  {
   "cell_type": "code",
   "execution_count": null,
   "id": "9626b892",
   "metadata": {},
   "outputs": [],
   "source": [
    " # Q No. 27 Write a Python program to replace last value of tuples in a list.\n",
    "zx = [(12,13,14),(40,50,60),(70,80,90)]\n",
    "print([t[:-1]+(100,) for t in zx])"
   ]
  },
  {
   "cell_type": "code",
   "execution_count": null,
   "id": "32313b73",
   "metadata": {},
   "outputs": [],
   "source": [
    "# Q no. 28 Write a Python program to find the repeated items of a tuple\n",
    "tuple1 = (10,20,10,20,40,30,50,10,50,10,7,20,50,10,90)\n",
    "res=tuple1.count(10)\n",
    "print(res)"
   ]
  },
  {
   "cell_type": "code",
   "execution_count": null,
   "id": "7c904401",
   "metadata": {},
   "outputs": [],
   "source": [
    "# Q no. 29 Write a Python program to remove an empty tuple(s) from a list of tuples\n",
    "def remove(tuples):\n",
    "    tuples= [t for t in tuples if t]\n",
    "    return tuples\n",
    "tuples = [(),(),('ram','jay'),(2,),()]\n",
    "print(remove(tuples))\n",
    "    "
   ]
  },
  {
   "cell_type": "code",
   "execution_count": null,
   "id": "82ae0a95",
   "metadata": {},
   "outputs": [],
   "source": [
    " # Q no. 30 Write a Python program to unzip a list of tuples into individual lists.\n",
    "tuples= [(10,20),(2,3),(5,10)]\n",
    "print(list(zip(*tuples)))"
   ]
  },
  {
   "cell_type": "code",
   "execution_count": null,
   "id": "bbf230c6",
   "metadata": {},
   "outputs": [],
   "source": [
    " # Q no. 31 Write a Python program to convert a list of tuples into a dictionary.\n",
    "def convert(tuples,dicts):\n",
    "    for a,b in tuples:\n",
    "        dicts.setdefault(a,[]).append(b)\n",
    "    return dicts\n",
    "tuples = [(\"alakh\",10),(\"deepak\",91),(\"murari\",35)]  \n",
    "dictionary ={}\n",
    "print(convert(tuples,dictionary))"
   ]
  },
  {
   "cell_type": "code",
   "execution_count": null,
   "id": "c1289711",
   "metadata": {},
   "outputs": [],
   "source": [
    " # Q no. 32 How will you create a dictionary using tuples in python?\n",
    "def covert_dict(tuples,dic):\n",
    "    dic = dict(tuples)\n",
    "    return dic\n",
    "tuples_values = [(\"book\",2000),(\"deepak\",20),(\"murari\",50)]\n",
    "res_dictonary={}\n",
    "print(covert_dict(tuples_values,res_dictonary))"
   ]
  },
  {
   "cell_type": "code",
   "execution_count": null,
   "id": "75c9badf",
   "metadata": {},
   "outputs": [],
   "source": [
    "# Q no. 33 Write a Python script to sort (ascending and descending) a dictionary by\n",
    " # value.\n",
    "def sort_dict_by_value(d,reverse=False):\n",
    "    return dict(sorted(d.items(),key= lambda x:x[1],reverse=reverse))\n",
    "print(\"original dictionary element:\")\n",
    "colors = {'red':1,'green':5,'purple':3,'yellow':2,'white':4}\n",
    "print(colors)\n",
    "print(\"\\nsort (assending)the said dictionary element by value:\")\n",
    "print(sort_dict_by_value(colors))\n",
    "print(\"\\nsort (descending)the said dictionary element by value:\")\n",
    "print(sort_dict_by_value(colors,True))"
   ]
  },
  {
   "cell_type": "code",
   "execution_count": null,
   "id": "ac28e7a6",
   "metadata": {},
   "outputs": [],
   "source": [
    "# Q No.34 Write a Python script to concatenate following dictionaries to create a new one.\n",
    "dic1={1:10,2:20}\n",
    "dic2={3:30,4:40}\n",
    "dic3={5:50,6:60}\n",
    "dic4={}\n",
    "for d in (dic1,dic2,dic3):\n",
    "    dic4.update(d)\n",
    "print(dic4)"
   ]
  },
  {
   "cell_type": "code",
   "execution_count": null,
   "id": "a2b62ed2",
   "metadata": {},
   "outputs": [],
   "source": [
    "# Q No. 35 Write a Python script to check if a given key already exists in a dictionary.\n",
    "d = {1: 10, 2: 20, 3: 30, 4: 40, 5: 50, 6: 60}\n",
    "def _present(x):\n",
    "    if x in d:\n",
    "        print('key is present')\n",
    "    else:\n",
    "        print('key is not present')\n",
    "_present(5)\n",
    "_present(9)"
   ]
  },
  {
   "cell_type": "code",
   "execution_count": null,
   "id": "90ff51d5",
   "metadata": {},
   "outputs": [],
   "source": [
    "# Q No. 36 How Do You Traverse Through A Dictionary Object In Python?\n",
    "dict_2 = {12:5,10:2,6:3}\n",
    "keys=dict_2.keys()\n",
    "print(keys)\n"
   ]
  },
  {
   "cell_type": "code",
   "execution_count": null,
   "id": "4cbaf5b2",
   "metadata": {},
   "outputs": [],
   "source": [
    "# Q No. 37 How Do You Check The Presence Of A Key In A Dictionary?\n",
    "def check(dic, keys):\n",
    "    if keys in dic:\n",
    "        print(\"present \",end=\" \")\n",
    "        \n",
    "    else:\n",
    "        print(\"not present\")\n",
    "dic= {'red': 10, 'blue': 20, 'white': 30, 'allu': 40, 'pink': 50, }\n",
    "keys='red'\n",
    "check(dic, keys)\n"
   ]
  },
  {
   "cell_type": "code",
   "execution_count": null,
   "id": "08950759",
   "metadata": {},
   "outputs": [],
   "source": [
    "# Q no. 38 Write a Python script to print a dictionary where the keys are numbers between 1 and 15.\n",
    "d1= int(input(\"enter the limit\"))\n",
    "d=dict()\n",
    "for i in range (1,d1+1):\n",
    "    d[i]=i**2\n",
    "    print(d)\n",
    "\n"
   ]
  },
  {
   "cell_type": "code",
   "execution_count": null,
   "id": "34653d92",
   "metadata": {},
   "outputs": [],
   "source": [
    "# Q no. 39 Write a Python program to check multiple keys exists in a dictionary\n",
    "dict2 = { 'name':'deepak','class':'standerd','roll':'id'}\n",
    "#print(dict2.keys() >= {'class','name'})\n",
    "print(dict2.keys() >= {'roll','deepak'})\n",
    "      \n"
   ]
  },
  {
   "cell_type": "code",
   "execution_count": null,
   "id": "5e7dab29",
   "metadata": {},
   "outputs": [],
   "source": [
    "# 40 Write a Python script to merge two Python dictionaries\n",
    "d1= {'a':100,'b':200}\n",
    "d2= {'c':300,'d':400}\n",
    "d= d1.copy()\n",
    "d.update(d2)\n",
    "print(d)"
   ]
  },
  {
   "cell_type": "code",
   "execution_count": null,
   "id": "ab2fc20e",
   "metadata": {},
   "outputs": [],
   "source": [
    " # Q no. 41 Write a Python program to map two lists into a dictionary\n",
    "keys= ['red','green','pink','yellow']\n",
    "values=['#fg0012','#jk120','#0050','#00123']\n",
    "color_dict= dict(zip(keys,values))\n",
    "print(color_dict)\n",
    "    \n",
    "    \n",
    "    "
   ]
  },
  {
   "cell_type": "code",
   "execution_count": null,
   "id": "0b4dad73",
   "metadata": {},
   "outputs": [],
   "source": [
    "# Q NO. 42 Write a Python program to combine two dictionary adding values for\n",
    "#common keys.Sample output: Counter ({'a': 400, 'b': 400,’d’: 400, 'c': 300}).\n",
    "d1 = {'a': 100, 'b': 200,'c':300}\n",
    "d2 = {'a': 300, 'b': 200,'d':400}\n",
    "new= {}\n",
    "for i in d1:\n",
    "    if d2.get(i)== None:\n",
    "        new[i] = 0 + d1[i]\n",
    "    else:\n",
    "        new[i]= d2[i]+d1[i]\n",
    "for i in d2:\n",
    "    if i in new:\n",
    "        pass\n",
    "    else:\n",
    "        new[i]=d2[i]\n",
    "new\n"
   ]
  },
  {
   "cell_type": "code",
   "execution_count": null,
   "id": "ff451a9e",
   "metadata": {},
   "outputs": [],
   "source": [
    " #Q NO. 43 Write a Python program to print all unique values in a dictionary.\n",
    "unique= [{\"v\":10,},{\"A\":20},{\"C\":30}]\n",
    "print(\"origional list:\",unique)\n",
    "u_values=list( val for dic in unique for val in dic.values())\n",
    "print(\"unique values:\",u_values)"
   ]
  },
  {
   "cell_type": "code",
   "execution_count": null,
   "id": "f87497a6",
   "metadata": {},
   "outputs": [],
   "source": [
    "# Q No. 44 Why Do You Use the Zip () Method in Python?\n",
    "#pair will be in TUPLE\n",
    "list(zip([12,23,34,45], ['a', 'b', 'c', 'd'])) #return a zip object bso must be typecast"
   ]
  },
  {
   "cell_type": "code",
   "execution_count": null,
   "id": "a247d0dc",
   "metadata": {},
   "outputs": [],
   "source": [
    "#Q No.45 Write a Python program to create and display all combinations of letters,\n",
    "#selecting each letter from a different key in a dictionary.\n",
    "#o Sample data: {'1': ['a','b'], '2': ['c','d']}\n",
    "#o Expected Output:\n",
    "#o ac ad bc bd\n",
    "data = {'1': ['a','b'], '2': ['c','d']}\n",
    "a,b= data.values()\n",
    "for i in a:\n",
    "    for j in b:\n",
    "        print(i,j)\n"
   ]
  },
  {
   "cell_type": "code",
   "execution_count": null,
   "id": "92361fa2",
   "metadata": {},
   "outputs": [],
   "source": [
    "#Q No.46 write a Python program to find the highest 3 values in a dictionary\n",
    "my_dict= {'a':67,'b':20,'c':30,'d':40,'e':50,'f':60}\n",
    "print(my_dict,\"\\n\")\n",
    "print(\"keys:values\")\n",
    "x=list(my_dict.values())\n",
    "d=dict()\n",
    "x.sort(reverse=True)\n",
    "x=x[:3]\n",
    "for i in x:\n",
    "    for j in my_dict.keys():\n",
    "        if (my_dict[j]==i):\n",
    "            print(str(j)+\" : \"+str(my_dict[j]))"
   ]
  },
  {
   "cell_type": "code",
   "execution_count": null,
   "id": "3a0abbdd",
   "metadata": {},
   "outputs": [],
   "source": [
    "#Q No.47 Write a Python program to combine values in python list of dictionaries.\n",
    "#Sample data: [{'item': 'item1', 'amount': 400}, {'item': 'item2', 'amount':300},\n",
    "#o {'item': 'item1', 'amount': 750}]\n",
    "#o Expected Output: Counter ({'item1': 1150, 'item2': 300}) \n",
    "data=[{'item': 'item1', 'amount': 400}, {'item': 'item2', 'amount':300},{'item': 'item1', 'amount': 750}]\n",
    "my_dict={}\n",
    "for i in data:\n",
    "    if i['item'] not in my_dict:\n",
    "        my_dict[i['item']]=i['amount']\n",
    "    else:\n",
    "        my_dict[i['item']]+=i['amount']\n",
    "    print(my_dict)\n"
   ]
  },
  {
   "cell_type": "code",
   "execution_count": null,
   "id": "98f76aaf",
   "metadata": {},
   "outputs": [],
   "source": [
    "#Q No.48 Write a Python program to create a dictionary from a string.\n",
    "#o Note: Track the count of the letters from the string. Sample string:'w3resource'\n",
    "#o Expected output: {'3': 1,’s’: 1, 'r': 2, 'u': 1, 'w': 1, 'c': 1, 'e': 2, 'o': 1}\n",
    "a={}\n",
    "s1='w3resource'\n",
    "for i in s1:\n",
    "    if i not in a:\n",
    "        a[i]=1\n",
    "    else:\n",
    "        a[i]+=1\n",
    "print(a)"
   ]
  },
  {
   "cell_type": "code",
   "execution_count": null,
   "id": "47345251",
   "metadata": {},
   "outputs": [],
   "source": [
    "#Q No.49 Write a Python function to calculate the factorial of a number (a nonnegative integer)\n",
    "# Method - 1\n",
    "def fact(n):\n",
    "    if n==0:\n",
    "        return 1\n",
    "    else:\n",
    "        return n*fact(n-1)\n",
    "n=int(input('Enter number to get factorial: '))\n",
    "s=fact(n)\n",
    "print(s)"
   ]
  },
  {
   "cell_type": "code",
   "execution_count": null,
   "id": "09a532ea",
   "metadata": {},
   "outputs": [],
   "source": [
    "#Q No.50 Write a Python function to check whether a number is in a given range\n",
    "n1=int(input('Enter range a: '))\n",
    "n2=int(input('Enter range b: '))\n",
    "print(f'Range: {n1} - {n2}')\n",
    "n=int(input('\\nEnter any number:'))\n",
    "if n in range(n1,n2):\n",
    "    print(f'Given number {n} is in range.')\n",
    "else:\n",
    "    print(f'Given number {n} is not in range.')"
   ]
  },
  {
   "cell_type": "code",
   "execution_count": null,
   "id": "4cf1ffd7",
   "metadata": {},
   "outputs": [],
   "source": [
    "#Q No.51 Write a Python function to check whether a number is perfect or not.\n",
    "n=int(input('Enter number: '))\n",
    "k=0\n",
    "for i in range(1,n):\n",
    "    if n%i==0 :\n",
    "        k=k+i\n",
    "if k==n:\n",
    "    print('True')\n",
    "else:\n",
    "    print('False')"
   ]
  },
  {
   "cell_type": "code",
   "execution_count": null,
   "id": "d27585f3",
   "metadata": {},
   "outputs": [],
   "source": [
    "#Q No.52 Write a Python function that checks whether a passed string is palindrome or not\n",
    "s=input('Enter anything: ')\n",
    "k=''\n",
    "for i in s:\n",
    "    k=i+k\n",
    "if s==k:\n",
    "    print(f'==> \"{k}\" is Palindrome.')\n",
    "else:\n",
    "    print(f'==> \"{k}\" is not Palindrome.')"
   ]
  },
  {
   "cell_type": "code",
   "execution_count": null,
   "id": "e04c57f9",
   "metadata": {},
   "outputs": [],
   "source": [
    "#Q No.53 How do you perform pattern matching in Python? Explain\n",
    "# There are five different functions provided in re module to perform pattern matching. They are as listed below.\n",
    "\n",
    "# Using re.search() Function\n",
    "# Using re.match() Function\n",
    "# Using re.fullmatch() Function\n",
    "# Using re.findall() Function\n",
    "# Using re.finditer() Function"
   ]
  },
  {
   "cell_type": "code",
   "execution_count": null,
   "id": "4f662339",
   "metadata": {},
   "outputs": [],
   "source": [
    "#Q No.54 What is lambda function in python? What we call a function which is incomplete version of a function?\n",
    "# Lambda function is also called as Anonymous function or One-Liner function.\n",
    "# Normal functions are defined using \"def\" keyword,\n",
    "# while lambda/ Anonymous functions can be defined without a name means just by using \"lambda\" keyword."
   ]
  },
  {
   "cell_type": "code",
   "execution_count": null,
   "id": "46c4a3cd",
   "metadata": {},
   "outputs": [],
   "source": [
    "#Q No.55 How Many Basic Types Of Functions Are Available In Python?\n",
    "# Mainly there are three types of functions.\n",
    "\n",
    "# [1] User Defined functions:  \n",
    "# [2] Built In functions: \n",
    "# [3] Anonymous/ Lambda/ One-Liner functions:"
   ]
  },
  {
   "cell_type": "code",
   "execution_count": null,
   "id": "8d801215",
   "metadata": {},
   "outputs": [],
   "source": [
    "#Q No.56 How can you pick a random item from a list or tuple?\n",
    "# Type Cast List of tuples in set & apply pop method.\n",
    "# It will return any random element from list of tuples.\n",
    "\n",
    "l1=[(5,6), (1,2), (3,6), (7,9), (3,8), (6,1)]\n",
    "l2=set(l1)\n",
    "l3=l2.pop()\n",
    "print(l3)"
   ]
  },
  {
   "cell_type": "code",
   "execution_count": null,
   "id": "69142b50",
   "metadata": {},
   "outputs": [],
   "source": [
    "# [57] How can you pick a random item from a range?\n",
    "\n",
    "# Take empty list and append all elements of range in empty list.\n",
    "# Type cast list into set and use pop method to get any random element.\n",
    "\n",
    "s=[]\n",
    "for i in range (25, 33):\n",
    "    s.append(i)\n",
    "k=set(s)\n",
    "ans=k.pop()\n",
    "print('Random item: ',ans)"
   ]
  },
  {
   "cell_type": "code",
   "execution_count": null,
   "id": "a7df38d5",
   "metadata": {},
   "outputs": [],
   "source": [
    "# [58] How can you get a random number in python?\n",
    "\n",
    "# Use set method.\n",
    "\n",
    "s1={4,5,8,9,15,42,78,35,62}\n",
    "s1.pop()"
   ]
  },
  {
   "cell_type": "code",
   "execution_count": null,
   "id": "c70f8a2f",
   "metadata": {},
   "outputs": [],
   "source": [
    "# [59] How will you set the starting value in generating random numbers?\n",
    "\n",
    "# We can set the starting value in list datatype only.\n",
    "# Use insert method and add value/ element at index value 0.\n",
    "# Now to get random number type cast list into set and apply pop mehod.\n",
    "\n",
    "s1=[45,89,52,63,42,73,95,41,61,54]\n",
    "n=int(input('Enter number: '))\n",
    "s1.insert(0, n)\n",
    "print(s1)"
   ]
  },
  {
   "cell_type": "code",
   "execution_count": null,
   "id": "67dad9d3",
   "metadata": {},
   "outputs": [],
   "source": [
    "# [60] How will you randomizes the items of a list in place?\n",
    "\n",
    "# Use set method, because of it's \"unordered\" property.\n",
    "\n",
    "l1=[89, 45, 89, 52, 63, 42, 73, 95, 41, 61, 54]\n",
    "l2=set(l1)\n",
    "print(list(l2))"
   ]
  },
  {
   "cell_type": "code",
   "execution_count": null,
   "id": "c915679b",
   "metadata": {},
   "outputs": [],
   "source": [
    "# [61] Write a Python program to read a random line from a file.\n",
    "\n",
    "# In order to pull a random word or string from a text file, \n",
    "# we will first open the file in read mode \n",
    "# and then use the methods in Python’s \"random\" module to pick a random word. "
   ]
  },
  {
   "cell_type": "code",
   "execution_count": null,
   "id": "8bf171a8",
   "metadata": {},
   "outputs": [],
   "source": [
    "# [62] Write a Python program to convert degree to radian.\n",
    "\n",
    "pi=3.14\n",
    "deg=float(input('Enter Degrees: '))\n",
    "rad= deg*pi/180\n",
    "print('Radians: ',rad)"
   ]
  },
  {
   "cell_type": "code",
   "execution_count": null,
   "id": "3517eb9a",
   "metadata": {},
   "outputs": [],
   "source": [
    "# [63] Write a Python program to calculate the area of a trapezoid.\n",
    "\n",
    "bottom_base=int(input('Bottom base value a: '))\n",
    "upper_base=int(input('Upper base value b: '))\n",
    "height=int(input('Height of Trapezoid: '))\n",
    "area=((bottom_base + upper_base)/2)*height\n",
    "print('\\nArea of Trapezoid: ',area)"
   ]
  },
  {
   "cell_type": "code",
   "execution_count": null,
   "id": "a0304576",
   "metadata": {},
   "outputs": [],
   "source": [
    "# [65] Write a Python program to calculate surface volume and area of a cylinder.\n",
    "\n",
    "pi= 3.14\n",
    "radius= int(input('Radius value: '))\n",
    "height= int(input('Height value: '))\n",
    "volume= pi*(radius**2)*height\n",
    "area=(2*pi*radius*height)+(2*pi*(radius**2))\n",
    "print('\\nVolume of Cylinder: ',volume)\n",
    "print('Area of Cylinder: ',area)"
   ]
  },
  {
   "cell_type": "code",
   "execution_count": null,
   "id": "a7872c13",
   "metadata": {},
   "outputs": [],
   "source": [
    "# [66] Write a Python program to returns sum of all divisors of a number.\n",
    "\n",
    "a=[]\n",
    "sum=0\n",
    "n=int(input('Enter any number: '))\n",
    "for i in range(1, n):\n",
    "    if n%i==0:\n",
    "        a.append(i)\n",
    "        sum+=i\n",
    "print('Divisors: ',a)\n",
    "print('Sum of Divisors: ',sum)"
   ]
  },
  {
   "cell_type": "code",
   "execution_count": null,
   "id": "0bbd41e4",
   "metadata": {},
   "outputs": [],
   "source": [
    "# [67] Write a Python program to find the maximum and minimum numbers \n",
    "#      from the specified decimal numbers.\n",
    "\n",
    "l1=[2.56, 4.23, 45.66, 8.12, 53.77, 6.25, 89.36, 5.85]\n",
    "print('Max value: ',max(l1))\n",
    "print('Min value: ',min(l1))"
   ]
  },
  {
   "cell_type": "code",
   "execution_count": null,
   "id": "fa8b1908",
   "metadata": {},
   "outputs": [],
   "source": [
    "# [64] Write a Python program to calculate the area of a parallelogram.\n",
    "\n",
    "base=int(input('Base value: '))\n",
    "height=int(input('Height value: '))\n",
    "area=base*height\n",
    "print('\\nArea of Parallelogram: ',area)"
   ]
  },
  {
   "cell_type": "code",
   "execution_count": null,
   "id": "a72f8175",
   "metadata": {},
   "outputs": [],
   "source": []
  }
 ],
 "metadata": {
  "kernelspec": {
   "display_name": "Python 3 (ipykernel)",
   "language": "python",
   "name": "python3"
  },
  "language_info": {
   "codemirror_mode": {
    "name": "ipython",
    "version": 3
   },
   "file_extension": ".py",
   "mimetype": "text/x-python",
   "name": "python",
   "nbconvert_exporter": "python",
   "pygments_lexer": "ipython3",
   "version": "3.10.9"
  }
 },
 "nbformat": 4,
 "nbformat_minor": 5
}
