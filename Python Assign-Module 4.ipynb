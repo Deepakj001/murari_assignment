{
 "cells": [
  {
   "cell_type": "code",
   "execution_count": null,
   "id": "9d601be4",
   "metadata": {},
   "outputs": [],
   "source": [
    "# Q NO. 1 What is File function in python? What is keywords to create and write file.\n",
    "# Python file object provides various modes/methods to manipulate files. like \"read\", \"write\", \"create\", and \"append\".\n",
    "# Keywords to create & write file.\n",
    "# \"x\" - create file\n",
    "# \"w\" - write"
   ]
  },
  {
   "cell_type": "code",
   "execution_count": null,
   "id": "e2f4afbe",
   "metadata": {},
   "outputs": [],
   "source": [
    "# Q.NO 2 Write a Python program to read an entire text file\n",
    "def file_read(fname):\n",
    "        txt = open(fname)\n",
    "        print(txt.read())\n",
    "\n",
    "file_read('test.txt')\n",
    "txt.close()"
   ]
  },
  {
   "cell_type": "code",
   "execution_count": null,
   "id": "fea4c8d9",
   "metadata": {},
   "outputs": [],
   "source": [
    "# [3] Write a Python program to append text to a file and display the text.\n",
    "\n",
    "s1= open(r'D:\\practice in VS Code\\example.txt', 'r')\n",
    "aa= s1.read()\n",
    "s1.close()\n",
    "s2= open(r'D:\\practice in VS Code\\example.txt', 'a')\n",
    "bb= s2.write('joji')\n",
    "s2.close()\n",
    "s3= open(r'D:\\practice in VS Code\\example.txt', 'r')\n",
    "cc= s3.read()\n",
    "s2.close()\n",
    "print(cc)"
   ]
  },
  {
   "cell_type": "code",
   "execution_count": null,
   "id": "99da8e05",
   "metadata": {},
   "outputs": [],
   "source": [
    "# [4] Write a Python program to read first n lines of a file.\n",
    "\n",
    "s1= open(r'D:\\practice in VS Code\\example.txt', 'r')\n",
    "ss= s1.read(17)\n",
    "s1.close()\n",
    "print(ss)"
   ]
  },
  {
   "cell_type": "code",
   "execution_count": null,
   "id": "73b01025",
   "metadata": {},
   "outputs": [],
   "source": [
    "# [5] Write a Python program to read last n lines of a file.\n",
    "\n",
    "s1= open(r'D:\\practice in VS Code\\example.txt', 'r')\n",
    "s1.seek(38)\n",
    "kk= s1.read()\n",
    "s1.close()\n",
    "print(kk)"
   ]
  },
  {
   "cell_type": "code",
   "execution_count": null,
   "id": "ae67ebdc",
   "metadata": {},
   "outputs": [],
   "source": [
    "# [6] Write a Python program to read a file line by line and store it into a list.\n",
    "\n",
    "l1=[]\n",
    "s1= open(r'D:\\practice in VS Code\\example.txt', 'r')\n",
    "k= s1.read()\n",
    "for i in k:\n",
    "    if k not in l1:\n",
    "        l1.append(k)\n",
    "s1.close()\n",
    "print(l1)"
   ]
  },
  {
   "cell_type": "code",
   "execution_count": null,
   "id": "247d8044",
   "metadata": {},
   "outputs": [],
   "source": [
    "# [7] Write a Python program to read a file line by line store it into a variable.\n",
    "\n",
    "a=''\n",
    "s1= open(r'D:\\practice in VS Code\\example.txt', 'r')\n",
    "k= s1.read()\n",
    "for i in k:\n",
    "    if k not in a:\n",
    "        a+=k\n",
    "s1.close()\n",
    "print(a)"
   ]
  },
  {
   "cell_type": "code",
   "execution_count": null,
   "id": "f1cd063a",
   "metadata": {},
   "outputs": [],
   "source": [
    "# [8] Write a python program to find the longest words.\n",
    "\n",
    "s1= open(r'D:\\practice in VS Code\\example.txt', 'r')\n",
    "k= s1.read()\n",
    "longest= max(k.split(), key=len)\n",
    "s1.close()\n",
    "print('Longest word: ',longest)"
   ]
  },
  {
   "cell_type": "code",
   "execution_count": null,
   "id": "df96601b",
   "metadata": {},
   "outputs": [],
   "source": [
    "# [9] Write a Python program to count the number of lines in a text file.\n",
    "\n",
    "s1= open(r'D:\\practice in VS Code\\example.txt', 'r')\n",
    "k= s1.read()\n",
    "lines= len(k.splitlines())\n",
    "print('Number of lines: ',lines)"
   ]
  },
  {
   "cell_type": "code",
   "execution_count": null,
   "id": "75fbbcb4",
   "metadata": {},
   "outputs": [],
   "source": [
    "# [10] Write a Python program to count the frequency of words in a file.\n",
    "\n",
    "a= {}\n",
    "s1= open(r'D:\\practice in VS Code\\example.txt', 'r')\n",
    "k= s1.read()\n",
    "sp= k.split()\n",
    "for i in sp:\n",
    "    if i not in a:\n",
    "        a[i]=1\n",
    "    else:\n",
    "        a[i]+=1\n",
    "print(a)"
   ]
  },
  {
   "cell_type": "code",
   "execution_count": null,
   "id": "295d0fd3",
   "metadata": {},
   "outputs": [],
   "source": [
    "# [11] Write a Python program to write a list to a file.\n",
    "\n",
    "k= ['\\nPython', 'DJango', 'Framework']\n",
    "s1= open(r'D:\\practice in VS Code\\example.txt', 'a')\n",
    "a= s1.write('\\n'.join(k))\n",
    "s1.close()\n",
    "s2= open(r'D:\\practice in VS Code\\example.txt', 'r')\n",
    "b= s2.read()\n",
    "s2.close()\n",
    "print(b)"
   ]
  },
  {
   "cell_type": "code",
   "execution_count": null,
   "id": "aea1f755",
   "metadata": {},
   "outputs": [],
   "source": [
    "# [13] Explain Exception handling? What is an Error in Python?\n",
    "\n",
    "# Exception is an Python object that represents an Error.\n",
    "# Errors = Exception = Problems\n",
    "# When error raise execution stops."
   ]
  },
  {
   "cell_type": "code",
   "execution_count": null,
   "id": "27a7c158",
   "metadata": {},
   "outputs": [],
   "source": [
    "# [14] How many except statements can a try-except block have? Name Some built-in exception classes:\n",
    "\n",
    "# There has to be at least one except block.\n",
    "# Some built-in exceptiions:\n",
    "# SyntaxError, ValueError, NameError, IndexError, TypeError, KeyError, AttributeError, IndentationError, etc..."
   ]
  },
  {
   "cell_type": "code",
   "execution_count": null,
   "id": "6870e488",
   "metadata": {},
   "outputs": [],
   "source": [
    "# [15] When will the else part of try-except-else be executed?\n",
    "\n",
    "# The else part will be executed \"When No Exception Occurs\"."
   ]
  },
  {
   "cell_type": "code",
   "execution_count": null,
   "id": "72bbcccf",
   "metadata": {},
   "outputs": [],
   "source": [
    "# [16] Can one block of except statements handle multiple exception?\n",
    "\n",
    "# Yes, a single block of except statements can handle multiple exceptions,\n",
    "# by listing them within parentheses after the except keyword. \n",
    "# This is called a multi-exception catch."
   ]
  },
  {
   "cell_type": "code",
   "execution_count": null,
   "id": "8a74fd2b",
   "metadata": {},
   "outputs": [],
   "source": [
    "# [17] When is the finally block executed?\n",
    "\n",
    "# Finally block always executes, when Try block exits.\n",
    "# This ensures that the finally block is executed even if an unexpected exception occurs."
   ]
  },
  {
   "cell_type": "code",
   "execution_count": null,
   "id": "0f8d8473",
   "metadata": {},
   "outputs": [],
   "source": [
    "# [18] What happens when \"1\"== 1 is executed?\n",
    "\n",
    "# It returns False. Because both the operands are of different types."
   ]
  },
  {
   "cell_type": "code",
   "execution_count": null,
   "id": "f6aea73f",
   "metadata": {},
   "outputs": [],
   "source": [
    "# [19] How Do You Handle Exceptions With Try/Except/Finally In Python? Explain with coding snippets.\n",
    "\n",
    "try:\n",
    "    a=int(input('Enter an integer: '))\n",
    "    print(10/a)\n",
    "except:\n",
    "    print('This is except block.')\n",
    "finally:\n",
    "    print('This is finally block.')"
   ]
  },
  {
   "cell_type": "code",
   "execution_count": null,
   "id": "7326a70e",
   "metadata": {},
   "outputs": [],
   "source": [
    "# [20] Write python program that user to enter only odd numbers, else will raise an exception.\n",
    "\n",
    "class ValueError(Exception):\n",
    "    pass\n",
    "for i in range(3):\n",
    "    num= int(input('Enter Odd number: '))\n",
    "    if num%2==0:\n",
    "        raise ValueError('Oops!! Even number entered')\n",
    "    else:\n",
    "        print('Congratulations!!')\n"
   ]
  },
  {
   "cell_type": "code",
   "execution_count": null,
   "id": "cfcd3fae",
   "metadata": {},
   "outputs": [],
   "source": [
    "# [21] What are oops concepts? Is multiple inheritance supported in java.\n",
    "\n",
    "# - OOPs(Object Oriented Programming) is a programming concept that works on the principles of \n",
    "#   abstraction, encapsulation, inheritance, and polymorphism.\n",
    "# - It allows users to create objects they want and create methods to handle those objects.\n",
    "# - Multiple Inheritence does not support in Java."
   ]
  },
  {
   "cell_type": "code",
   "execution_count": null,
   "id": "33bcae69",
   "metadata": {},
   "outputs": [],
   "source": [
    "# [22] How to Define a Class in Python? What Is Self? Give An Example Of A Python Class\n",
    "\n",
    "# Syntax: \n",
    "class A:\n",
    "    def __init__(self):\n",
    "        print(\"Hello\")\n",
    "    def fun_name(self):\n",
    "        print('This is python')\n",
    "a1=A()\n",
    "a1.fun_name()\n"
   ]
  },
  {
   "cell_type": "code",
   "execution_count": null,
   "id": "87bc771c",
   "metadata": {},
   "outputs": [],
   "source": [
    "# [23] Write a Python class named Rectangle constructed by a length and width and a method which will compute the area of a rectangle\n",
    "\n",
    "class Rectangle:\n",
    "    def __init__(self, length, width):\n",
    "        self.length = length\n",
    "        self.width = width\n",
    "    def result(self):\n",
    "        return self.length*self.width\n",
    "r1=Rectangle(5, 9)\n",
    "\n",
    "print(r1.result())"
   ]
  },
  {
   "cell_type": "code",
   "execution_count": null,
   "id": "fd0520c5",
   "metadata": {},
   "outputs": [],
   "source": [
    "# [24] Write a Python class named Circle constructed by a radius and two methods which will compute the area and the perimeter of a circle\n",
    "\n",
    "class Circle:\n",
    "    def __init__(self, radius):\n",
    "        self.radius = radius\n",
    "    def area(self):\n",
    "        return self.radius**2*3.14\n",
    "    def perimeter(self):\n",
    "        return 2*self.radius*3.14\n",
    "c1= Circle(6)\n",
    "\n",
    "print(c1.area())\n",
    "print(c1.perimeter())"
   ]
  },
  {
   "cell_type": "code",
   "execution_count": null,
   "id": "53d7391f",
   "metadata": {},
   "outputs": [],
   "source": [
    "# [25] Write a Python class named Circle constructed by a radius and two methods which will compute the area and the perimeter of a circle\n",
    "\n",
    "class Circle:\n",
    "    def __init__(self, radius):\n",
    "        self.radius = radius\n",
    "    def area(self):\n",
    "        return self.radius**2*3.14\n",
    "    def perimeter(self):\n",
    "        return 2*self.radius*3.14\n",
    "c1= Circle(6)\n",
    "\n",
    "print(c1.area())\n",
    "print(c1.perimeter())"
   ]
  },
  {
   "cell_type": "code",
   "execution_count": null,
   "id": "395d47f9",
   "metadata": {},
   "outputs": [],
   "source": [
    "# [26] Explain Inheritance in Python with an example? What is init? Or What Is A Constructor In Python?\n",
    "\n",
    "# Inheritance relationship defines the classes that inherit from other classes as derived, subclass, or sub-type classes.\n",
    "# Base class remains to be the source from which a subclass inherits.\n",
    "# For example, you have a Base class of “Animal,” and a “Lion” is a Derived class. The inheritance will be Lion is an Animal.\n",
    "\n",
    "# A constructor is a special method in a class used to create and initialize an object of a class.\n",
    "# Class ko call karne pe wo class me __init__ method call karta hai."
   ]
  },
  {
   "cell_type": "code",
   "execution_count": null,
   "id": "d52e269a",
   "metadata": {},
   "outputs": [],
   "source": [
    "# [27] What is Instantiation in terms of OOP terminology?\n",
    "\n",
    "# The processes of creating a new object for a class using a new keyword.\n",
    "# In Python, everything is an instance or an object. \n",
    "# Class constructors, which are like blueprints, allow software engineers to create and initialize objects of a given class. \n",
    "# This instantiation process follows the steps of instance creation and instance initialization and makes those objects ready to use."
   ]
  },
  {
   "cell_type": "code",
   "execution_count": null,
   "id": "72c93322",
   "metadata": {},
   "outputs": [],
   "source": [
    "# [28] What is used to check whether an object o is an instance of class A?\n",
    "\n",
    "# isinstance() function is used, it returns True if the object is of class A or False if not."
   ]
  }
 ],
 "metadata": {
  "kernelspec": {
   "display_name": "Python 3 (ipykernel)",
   "language": "python",
   "name": "python3"
  },
  "language_info": {
   "codemirror_mode": {
    "name": "ipython",
    "version": 3
   },
   "file_extension": ".py",
   "mimetype": "text/x-python",
   "name": "python",
   "nbconvert_exporter": "python",
   "pygments_lexer": "ipython3",
   "version": "3.10.9"
  }
 },
 "nbformat": 4,
 "nbformat_minor": 5
}
